{
  "cells": [
    {
      "cell_type": "raw",
      "metadata": {},
      "source": [
        "---\n",
        "title: Conditional Rendering\n",
        "html: html\n",
        "execute: \n",
        "  echo: false\n",
        "  warning: false\n",
        "  message: false\n",
        "---"
      ],
      "id": "9e8c0247"
    },
    {
      "cell_type": "markdown",
      "metadata": {},
      "source": [
        "<!-- Button -->\n",
        "<button id=\"reveal-btn\" class=\"btn btn-dark\">\n",
        "  <i class=\"bi bi-magic\"></i>\n",
        "  Analizar con AI\n",
        "</button>\n",
        "\n",
        "<!-- Spinner -->\n",
        "<div id=\"loading-spinner\" style=\"display: none;\" class=\"spinner-border text-dark mt-3\" role=\"status\">\n",
        "  <span class=\"visually-hidden\">Loading...</span>\n",
        "</div>\n",
        "\n",
        "<!-- Output Container -->\n",
        "<div id=\"output-container\" style=\"display: none;\">\n",
        "  <!-- Your output content here -->\n",
        "  <div class=\"alert alert-success\">\n",
        "    Analysis completed successfully!\n",
        "  </div>\n",
        "</div>\n",
        "\n",
        "<script>\n",
        "  document.addEventListener(\"DOMContentLoaded\", function() {\n",
        "    document.getElementById(\"reveal-btn\").addEventListener(\"click\", function() { \n",
        "      var button = this; \n",
        "      var spinner = document.getElementById(\"loading-spinner\"); \n",
        "      var output = document.getElementById(\"output-container\"); \n",
        "      \n",
        "      button.style.display = \"none\"; // Hide button\n",
        "      spinner.style.display = \"inline-block\"; // Show spinner \n",
        "      \n",
        "      setTimeout(function() {\n",
        "        spinner.style.display = \"none\"; // Hide spinner \n",
        "        output.style.display = \"block\"; // Show output\n",
        "      }, 2000); \n",
        "    });\n",
        "  });\n",
        "</script>\n",
        "\n",
        "\n",
        "\n",
        "```{css}\n",
        "#| execute: false\n",
        "\n",
        "#loading-spinner {\n",
        "  display: none;\n",
        "}\n",
        "```"
      ],
      "id": "0c6f7367"
    }
  ],
  "metadata": {
    "kernelspec": {
      "display_name": "Python 3",
      "language": "python",
      "name": "python3"
    }
  },
  "nbformat": 4,
  "nbformat_minor": 5
}